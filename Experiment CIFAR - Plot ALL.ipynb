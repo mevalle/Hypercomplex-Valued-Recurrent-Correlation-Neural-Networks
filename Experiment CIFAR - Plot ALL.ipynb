{
 "cells": [
  {
   "cell_type": "code",
   "execution_count": 1,
   "metadata": {},
   "outputs": [],
   "source": [
    "using PyPlot\n",
    "using JLD2, FileIO"
   ]
  },
  {
   "cell_type": "code",
   "execution_count": 2,
   "metadata": {},
   "outputs": [
    {
     "ename": "LoadError",
     "evalue": "SystemError: opening file JLDs/CIFARQuaterion.jld2: Arquivo ou diretório inexistente",
     "output_type": "error",
     "traceback": [
      "SystemError: opening file JLDs/CIFARQuaterion.jld2: Arquivo ou diretório inexistente",
      "",
      "Stacktrace:",
      " [1] #systemerror#39(::Nothing, ::Function, ::String, ::Bool) at ./error.jl:106",
      " [2] systemerror at ./error.jl:106 [inlined]",
      " [3] #open#295(::Bool, ::Bool, ::Bool, ::Bool, ::Bool, ::Function, ::String) at ./iostream.jl:283",
      " [4] #open at ./none:0 [inlined]",
      " [5] JLD2.MmapIO(::String, ::Bool, ::Bool, ::Bool) at /home/valle/.julia/packages/JLD2/4AJn8/src/mmapio.jl:100",
      " [6] openfile at /home/valle/.julia/packages/JLD2/4AJn8/src/JLD2.jl:194 [inlined]",
      " [7] #jldopen#9(::Bool, ::Bool, ::Function, ::String, ::Bool, ::Bool, ::Bool, ::Type{JLD2.MmapIO}) at /home/valle/.julia/packages/JLD2/4AJn8/src/JLD2.jl:231",
      " [8] jldopen at /home/valle/.julia/packages/JLD2/4AJn8/src/JLD2.jl:203 [inlined] (repeats 2 times)",
      " [9] #jldopen#10(::Base.Iterators.Pairs{Union{},Union{},Tuple{},NamedTuple{(),Tuple{}}}, ::Function, ::String, ::String) at /home/valle/.julia/packages/JLD2/4AJn8/src/JLD2.jl:293",
      " [10] jldopen at /home/valle/.julia/packages/JLD2/4AJn8/src/JLD2.jl:288 [inlined] (repeats 2 times)",
      " [11] @load(::LineNumberNode, ::Module, ::Any, ::Vararg{Any,N} where N) at /home/valle/.julia/packages/JLD2/4AJn8/src/loadsave.jl:99"
     ]
    }
   ],
   "source": [
    "@load \"JLDs/CIFARBipolar.jld2\"\n",
    "plot(255*NoiseValues,SuccessBipolar_Sync/Nsim, c=\"blue\", marker=\"^\",ms=\"7\", linestyle=\"solid\", \n",
    "    label = \"Bipolar (Synchronous)\")\n",
    "plot(255*NoiseValues,SuccessBipolar_Seq/Nsim, c=\"blue\", marker=\"^\",ms=\"7\", markerfacecolor = \"white\", \n",
    "    linestyle=\"dashed\", label = \"Bipolar (Asynchronous)\")\n",
    "#########################################################\n",
    "@load \"JLDs/CIFARCvMultistate.jld2\"\n",
    "plot(255*NoiseValues,SuccessCvMultistate_Sync/Nsim, c=\"orange\", marker=\"o\",ms=\"7\", linestyle=\"solid\", \n",
    "    label = \"Complex (Synchronous)\")\n",
    "plot(255*NoiseValues,SuccessCvMultistate_Seq/Nsim, c=\"orange\", marker=\"o\",ms=\"7\", markerfacecolor = \"white\", \n",
    "    linestyle=\"dashed\", label = \"Complex (Asynchronous)\")\n",
    "#########################################################\n",
    "@load \"JLDs/CIFARQuaterion.jld2\"\n",
    "plot(255*NoiseValues,SuccessQuaternion_Sync/Nsim, c=\"green\", marker=\"s\",ms=\"7\", linestyle=\"solid\", \n",
    "    label = \"Quaternion (Synchronous)\")\n",
    "plot(255*NoiseValues,SuccessQuaternion_Seq/Nsim, c=\"green\", marker=\"s\",ms=\"7\", markerfacecolor = \"white\", \n",
    "    linestyle=\"dashed\", label = \"Quaternion (Asynchronous)\")\n",
    "#########################################################\n",
    "@load \"JLDs/CIFAROctonion.jld2\"\n",
    "plot(255*NoiseValues,SuccessOctonion_Sync/Nsim, c=\"red\", marker=\"v\",ms=\"7\", linestyle=\"solid\", \n",
    "    label = \"Octonion (Synchronous)\")\n",
    "plot(255*NoiseValues,SuccessOctonion_Seq/Nsim, c=\"red\", marker=\"v\",ms=\"7\", markerfacecolor = \"white\", \n",
    "    linestyle=\"dashed\", label = \"Octonion (Asynchronous)\")\n",
    "#########################################################\n",
    "title(\"Hypercomplex-valued ECNNs\")\n",
    "xlabel(\"Standard Deviation of Gaussian Noise\")\n",
    "ylabel(\"Success Rate\")\n",
    "legend()\n",
    "grid()\n",
    "savefig(\"Figures/CIFAR_ALL.eps\")\n",
    "savefig(\"Figures/CIFAR_ALL.pdf\")"
   ]
  }
 ],
 "metadata": {
  "@webio": {
   "lastCommId": null,
   "lastKernelId": null
  },
  "kernelspec": {
   "display_name": "Julia 1.0.5",
   "language": "julia",
   "name": "julia-1.0"
  },
  "language_info": {
   "file_extension": ".jl",
   "mimetype": "application/julia",
   "name": "julia",
   "version": "1.0.5"
  }
 },
 "nbformat": 4,
 "nbformat_minor": 2
}
